{
  "cells": [
    {
      "cell_type": "code",
      "execution_count": null,
      "id": "c040bf9b",
      "metadata": {
        "scrolled": true,
        "id": "c040bf9b",
        "outputId": "4480af04-91c8-4903-e017-afc875ff31c0"
      },
      "outputs": [
        {
          "name": "stdout",
          "output_type": "stream",
          "text": [
            "[51.875]\n"
          ]
        }
      ],
      "source": [
        "# Punto 1 - Trapecio\n",
        "import numpy as np\n",
        "\n",
        "at=0\n",
        "bt=5\n",
        "dx=0.5\n",
        "I=np.zeros((10,1))\n",
        "It=0\n",
        "\n",
        "def fx(x):\n",
        "    return x**2+2\n",
        "\n",
        "for i in range(0,10):\n",
        "    a=i*dx\n",
        "    b=a+dx\n",
        "    I[i]=((fx(b)+fx(a))/2)*dx\n",
        "    \n",
        "for j in range(0,len(I)):\n",
        "    It=It+I[j]\n",
        "    \n",
        "print(It)"
      ]
    },
    {
      "cell_type": "code",
      "source": [
        "# Punto 1 - Puntos medios\n",
        "import numpy as np\n",
        "\n",
        "at=0\n",
        "bt=5\n",
        "dx=0.5\n",
        "I=np.zeros((10,1))\n",
        "It=0\n",
        "\n",
        "def fx(x):\n",
        "    return x**2+2\n",
        "\n",
        "for i in range(0,10):\n",
        "    a=i*dx\n",
        "    b=a+dx\n",
        "    I[i]=(dx*fx((b+a)/2))\n",
        "    \n",
        "for j in range(0,len(I)):\n",
        "    It=It+I[j]\n",
        "    \n",
        "print(It)"
      ],
      "metadata": {
        "colab": {
          "base_uri": "https://localhost:8080/"
        },
        "id": "2O9oosE7vjCp",
        "outputId": "49c12e26-9d30-4049-ea3d-ee2e39460e47"
      },
      "id": "2O9oosE7vjCp",
      "execution_count": 2,
      "outputs": [
        {
          "output_type": "stream",
          "name": "stdout",
          "text": [
            "[51.5625]\n"
          ]
        }
      ]
    },
    {
      "cell_type": "code",
      "execution_count": 1,
      "id": "58f99121",
      "metadata": {
        "colab": {
          "base_uri": "https://localhost:8080/"
        },
        "id": "58f99121",
        "outputId": "1018d8bb-9a95-459e-ef7d-a09b125f4963"
      },
      "outputs": [
        {
          "output_type": "stream",
          "name": "stdout",
          "text": [
            "[51.66666667]\n"
          ]
        }
      ],
      "source": [
        "# Punto 1 - Con Simpson\n",
        "import numpy as np\n",
        "\n",
        "at=0\n",
        "bt=5\n",
        "dx=0.5\n",
        "I=np.zeros((10,1))\n",
        "It=0\n",
        "\n",
        "def fx(x):\n",
        "    return x**2+2\n",
        "\n",
        "for i in range(0,10):\n",
        "    a=i*dx\n",
        "    b=a+dx\n",
        "    I[i]=(fx(a)+(4*fx((b+a)/2))+fx(b))*dx/6\n",
        "+fx(b)    \n",
        "for j in range(0,len(I)):\n",
        "    It=It+I[j]\n",
        "    \n",
        "print(It)"
      ]
    },
    {
      "cell_type": "code",
      "execution_count": 3,
      "id": "87bd8b54",
      "metadata": {
        "colab": {
          "base_uri": "https://localhost:8080/"
        },
        "id": "87bd8b54",
        "outputId": "0e42528a-2a10-4f3a-e5bf-78c46669b758"
      },
      "outputs": [
        {
          "output_type": "stream",
          "name": "stdout",
          "text": [
            "[1.19843092]\n"
          ]
        }
      ],
      "source": [
        "# Punto 2 - Trapecio\n",
        "import numpy as np\n",
        "\n",
        "at=1\n",
        "bt=6\n",
        "dx=0.5\n",
        "I=np.zeros((10,1))\n",
        "It=0\n",
        "\n",
        "def fx(x):\n",
        "    return (np.sin(np.log(x)))/x\n",
        "\n",
        "for i in range(0,10):\n",
        "    a=1+i*dx\n",
        "    b=a+dx\n",
        "    I[i]=((fx(b)+fx(a))/2)*dx\n",
        "    \n",
        "for j in range(0,len(I)):\n",
        "    It=It+I[j]\n",
        "    \n",
        "print(It)"
      ]
    },
    {
      "cell_type": "code",
      "source": [
        "# Punto 2 - Puntos medios\n",
        "import numpy as np\n",
        "\n",
        "at=1\n",
        "bt=6\n",
        "dx=0.5\n",
        "I=np.zeros((10,1))\n",
        "It=0\n",
        "\n",
        "def fx(x):\n",
        "    return (np.sin(np.log(x)))/x\n",
        "\n",
        "for i in range(0,10):\n",
        "    a=1+i*dx\n",
        "    b=a+dx\n",
        "    I[i]=(dx*fx((b+a)/2))\n",
        "    \n",
        "for j in range(0,len(I)):\n",
        "    It=It+I[j]\n",
        "    \n",
        "print(It)"
      ],
      "metadata": {
        "outputId": "73617a09-e912-4224-e698-3f27a812b8c8",
        "colab": {
          "base_uri": "https://localhost:8080/"
        },
        "id": "XqCnQ7TnwbHx"
      },
      "execution_count": 4,
      "outputs": [
        {
          "output_type": "stream",
          "name": "stdout",
          "text": [
            "[1.22925119]\n"
          ]
        }
      ],
      "id": "XqCnQ7TnwbHx"
    },
    {
      "cell_type": "code",
      "source": [
        "# Punto 2 - Con Simpson\n",
        "import numpy as np\n",
        "\n",
        "at=1\n",
        "bt=6\n",
        "dx=0.5\n",
        "I=np.zeros((10,1))\n",
        "It=0\n",
        "\n",
        "def fx(x):\n",
        "    return (np.sin(np.log(x)))/x\n",
        "\n",
        "for i in range(0,10):\n",
        "    a=1+i*dx\n",
        "    b=a+dx\n",
        "    I[i]=(fx(a)+(4*fx((b+a)/2))+fx(b))*dx/6\n",
        "+fx(b)    \n",
        "for j in range(0,len(I)):\n",
        "    It=It+I[j]\n",
        "    \n",
        "print(It)"
      ],
      "metadata": {
        "colab": {
          "base_uri": "https://localhost:8080/"
        },
        "id": "mhCFuww7wiCh",
        "outputId": "364cf159-50b7-4207-f468-fbc6e70111b9"
      },
      "id": "mhCFuww7wiCh",
      "execution_count": 5,
      "outputs": [
        {
          "output_type": "stream",
          "name": "stdout",
          "text": [
            "[1.21897777]\n"
          ]
        }
      ]
    }
  ],
  "metadata": {
    "kernelspec": {
      "display_name": "Python 3 (ipykernel)",
      "language": "python",
      "name": "python3"
    },
    "language_info": {
      "codemirror_mode": {
        "name": "ipython",
        "version": 3
      },
      "file_extension": ".py",
      "mimetype": "text/x-python",
      "name": "python",
      "nbconvert_exporter": "python",
      "pygments_lexer": "ipython3",
      "version": "3.9.13"
    },
    "colab": {
      "provenance": []
    }
  },
  "nbformat": 4,
  "nbformat_minor": 5
}