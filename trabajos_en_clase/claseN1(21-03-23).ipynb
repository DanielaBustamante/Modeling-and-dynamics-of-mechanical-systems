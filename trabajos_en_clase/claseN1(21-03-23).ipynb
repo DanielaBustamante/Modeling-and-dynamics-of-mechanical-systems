{
 "cells": [
  {
   "cell_type": "code",
   "execution_count": 6,
   "id": "6bb2906b",
   "metadata": {},
   "outputs": [
    {
     "name": "stdout",
     "output_type": "stream",
     "text": [
      "aa= 3.5714285714285716 ; bb= 5\n"
     ]
    }
   ],
   "source": [
    "aa=25/7\n",
    "bb=5\n",
    "print('aa=',aa,';','bb=',bb)"
   ]
  },
  {
   "cell_type": "code",
   "execution_count": 16,
   "id": "4cc06bf0",
   "metadata": {},
   "outputs": [],
   "source": [
    "import numpy as np\n",
    "import matplotlib.pyplot as plt"
   ]
  },
  {
   "cell_type": "code",
   "execution_count": 8,
   "id": "baceb016",
   "metadata": {},
   "outputs": [
    {
     "name": "stdout",
     "output_type": "stream",
     "text": [
      "pi: 3.141592653589793\n"
     ]
    }
   ],
   "source": [
    "pi=np.pi\n",
    "print('pi:',pi)"
   ]
  },
  {
   "cell_type": "code",
   "execution_count": 10,
   "id": "72919147",
   "metadata": {},
   "outputs": [],
   "source": [
    "b=np.sin(pi/2)"
   ]
  },
  {
   "cell_type": "code",
   "execution_count": 11,
   "id": "a70fea83",
   "metadata": {},
   "outputs": [],
   "source": [
    "def fx(x):\n",
    "    f=x**3+3*x**2+x+5\n",
    "    return f"
   ]
  },
  {
   "cell_type": "code",
   "execution_count": 12,
   "id": "e576fc1f",
   "metadata": {},
   "outputs": [],
   "source": [
    "z=np.linspace(-10,10,50)"
   ]
  },
  {
   "cell_type": "code",
   "execution_count": 29,
   "id": "bcedf5ed",
   "metadata": {},
   "outputs": [
    {
     "data": {
      "text/plain": [
       "array([-5.91836735, -5.51020408, -5.10204082, -4.69387755, -4.28571429])"
      ]
     },
     "execution_count": 29,
     "metadata": {},
     "output_type": "execute_result"
    }
   ],
   "source": [
    "z[10:15]"
   ]
  },
  {
   "cell_type": "code",
   "execution_count": 14,
   "id": "0f28aa90",
   "metadata": {},
   "outputs": [],
   "source": [
    "y=fx(z)"
   ]
  },
  {
   "cell_type": "code",
   "execution_count": 24,
   "id": "07233c39",
   "metadata": {},
   "outputs": [
    {
     "data": {
      "text/plain": [
       "Text(0, 0.5, 'Y')"
      ]
     },
     "execution_count": 24,
     "metadata": {},
     "output_type": "execute_result"
    },
    {
     "data": {
      "image/png": "[encoded data removed]",
      "text/plain": [
       "<Figure size 640x480 with 1 Axes>"
      ]
     },
     "metadata": {},
     "output_type": "display_data"
    }
   ],
   "source": [
    "plt.plot(z,y,'o-r')\n",
    "plt.xlabel('X')\n",
    "plt.ylabel('Y')"
   ]
  },
  {
   "cell_type": "code",
   "execution_count": 45,
   "id": "681a843e",
   "metadata": {},
   "outputs": [
    {
     "data": {
      "text/plain": [
       "-705"
      ]
     },
     "execution_count": 45,
     "metadata": {},
     "output_type": "execute_result"
    }
   ],
   "source": [
    "fx(-10)"
   ]
  },
  {
   "cell_type": "code",
   "execution_count": 43,
   "id": "6b744800",
   "metadata": {},
   "outputs": [
    {
     "name": "stdout",
     "output_type": "stream",
     "text": [
      "Y( 0 )= -705.0 0\n",
      "Y( 2 )= -525.7138182219994 1\n",
      "Y( 4 )= -379.1486965465069 2\n",
      "Y( 6 )= -262.0406888286343 3\n",
      "Y( 8 )= -171.12584892349275 4\n",
      "Y( 10 )= -103.14023068619368 5\n",
      "Y( 12 )= -54.81988797184848 6\n",
      "Y( 14 )= -22.90087463556852 7\n",
      "Y( 16 )= -4.11924453246521 8\n",
      "Y( 18 )= 4.788948482350045 9\n",
      "Y( 20 )= 7.087650553765862 10\n",
      "Y( 22 )= 6.040807826670858 11\n",
      "Y( 24 )= 4.912366445953642 12\n",
      "Y( 26 )= 6.966272556502814 13\n",
      "Y( 28 )= 15.466472303207 14\n",
      "Y( 30 )= 33.67691183095482 15\n",
      "Y( 32 )= 64.86153728463482 16\n",
      "Y( 34 )= 112.28429480913562 17\n",
      "Y( 36 )= 179.20913054934596 18\n",
      "Y( 38 )= 268.89999065015445 19\n",
      "Y( 40 )= 384.62082125644935 20\n",
      "Y( 42 )= 529.6355685131193 21\n",
      "Y( 44 )= 707.2081785650541 22\n",
      "Y( 46 )= 920.6025975571408 23\n",
      "Y( 48 )= 1173.0827716342683 24\n"
     ]
    }
   ],
   "source": [
    "n=len(z)\n",
    "j=0\n",
    "for i in range(0,n,2):\n",
    "    Y=fx(z[i])\n",
    "    print('Y(',i,')=',Y,j)\n",
    "    j+=1"
   ]
  },
  {
   "cell_type": "code",
   "execution_count": 32,
   "id": "cf3c962b",
   "metadata": {},
   "outputs": [
    {
     "data": {
      "text/plain": [
       "10.0"
      ]
     },
     "execution_count": 32,
     "metadata": {},
     "output_type": "execute_result"
    }
   ],
   "source": [
    "z[-1]"
   ]
  },
  {
   "cell_type": "code",
   "execution_count": 44,
   "id": "69937958",
   "metadata": {},
   "outputs": [
    {
     "name": "stdout",
     "output_type": "stream",
     "text": [
      "Y( 0 )= -705.0\n",
      "Y( 1 )= -611.0627799641308\n",
      "Y( 2 )= -525.7138182219994\n",
      "Y( 3 )= -448.54512150549505\n",
      "Y( 4 )= -379.1486965465069\n",
      "Y( 5 )= -317.1165500769238\n",
      "Y( 6 )= -262.0406888286343\n",
      "Y( 7 )= -213.5131195335276\n",
      "Y( 8 )= -171.12584892349275\n",
      "Y( 9 )= -134.47088373041848\n",
      "Y( 10 )= -103.14023068619368\n",
      "Y( 11 )= -76.72589652270734\n",
      "Y( 12 )= -54.81988797184848\n",
      "Y( 13 )= -37.01421176550588\n",
      "Y( 14 )= -22.90087463556852\n",
      "Y( 15 )= -12.071883313925305\n",
      "Y( 16 )= -4.11924453246521\n",
      "Y( 17 )= 1.3650349769228747\n",
      "Y( 18 )= 4.788948482350045\n",
      "Y( 19 )= 6.560489251927345\n",
      "Y( 20 )= 7.087650553765862\n",
      "Y( 21 )= 6.778425655976677\n",
      "Y( 22 )= 6.040807826670858\n",
      "Y( 23 )= 5.282790333959489\n",
      "Y( 24 )= 4.912366445953642\n",
      "Y( 25 )= 5.337529430764392\n",
      "Y( 26 )= 6.966272556502814\n",
      "Y( 27 )= 10.206589091280001\n",
      "Y( 28 )= 15.466472303207\n",
      "Y( 29 )= 23.1539154603949\n",
      "Y( 30 )= 33.67691183095482\n",
      "Y( 31 )= 47.44345468299776\n",
      "Y( 32 )= 64.86153728463482\n",
      "Y( 33 )= 86.33915290397707\n",
      "Y( 34 )= 112.28429480913562\n",
      "Y( 35 )= 143.10495626822163\n",
      "Y( 36 )= 179.20913054934596\n",
      "Y( 37 )= 221.0048109206198\n",
      "Y( 38 )= 268.89999065015445\n",
      "Y( 39 )= 323.3026630060605\n",
      "Y( 40 )= 384.62082125644935\n",
      "Y( 41 )= 453.2624586694319\n",
      "Y( 42 )= 529.6355685131193\n",
      "Y( 43 )= 614.1481440556229\n",
      "Y( 44 )= 707.2081785650541\n",
      "Y( 45 )= 809.223665309523\n",
      "Y( 46 )= 920.6025975571408\n",
      "Y( 47 )= 1041.7529685760187\n",
      "Y( 48 )= 1173.0827716342683\n",
      "Y( 49 )= 1315.0\n"
     ]
    }
   ],
   "source": [
    "i=0\n",
    "for x in z:\n",
    "    Y=fx(x)\n",
    "    print('Y(',i,')=',Y)\n",
    "    i+=1"
   ]
  },
  {
   "cell_type": "code",
   "execution_count": 46,
   "id": "13a8c89c",
   "metadata": {},
   "outputs": [
    {
     "name": "stdout",
     "output_type": "stream",
     "text": [
      "k 0\n",
      "k 1\n",
      "k 2\n",
      "k 3\n",
      "k 4\n",
      "k 5\n",
      "k 6\n",
      "k 7\n",
      "k 8\n",
      "k 9\n"
     ]
    }
   ],
   "source": [
    "k=0\n",
    "while k < 10:\n",
    "    print('k',k)\n",
    "    k+=1"
   ]
  },
  {
   "cell_type": "code",
   "execution_count": 49,
   "id": "aad69f8b",
   "metadata": {},
   "outputs": [
    {
     "name": "stdout",
     "output_type": "stream",
     "text": [
      "l: 0\n",
      "l: 1\n",
      "l: 2\n",
      "l: 3\n",
      "l: 4\n",
      "l: 5\n",
      "l: 6\n",
      "l: 7\n",
      "l: 8\n",
      "l: 9\n",
      "l: 10\n"
     ]
    }
   ],
   "source": [
    "k=0\n",
    "for l in range(0,100):\n",
    "    print('l:',l)\n",
    "    if(l>9):\n",
    "        break"
   ]
  },
  {
   "cell_type": "code",
   "execution_count": 52,
   "id": "b399165d",
   "metadata": {},
   "outputs": [
    {
     "data": {
      "text/plain": [
       "array([[1, 2, 3],\n",
       "       [4, 5, 6],\n",
       "       [7, 8, 9]])"
      ]
     },
     "execution_count": 52,
     "metadata": {},
     "output_type": "execute_result"
    }
   ],
   "source": [
    "A=np.array([[1,2,3],[4,5,6],[7,8,9]])\n",
    "A"
   ]
  },
  {
   "cell_type": "code",
   "execution_count": 53,
   "id": "98a83b81",
   "metadata": {},
   "outputs": [
    {
     "data": {
      "text/plain": [
       "array([[ 10,  27,  62],\n",
       "       [121, 210, 335],\n",
       "       [502, 717, 986]])"
      ]
     },
     "execution_count": 53,
     "metadata": {},
     "output_type": "execute_result"
    }
   ],
   "source": [
    "fx(A)"
   ]
  },
  {
   "cell_type": "code",
   "execution_count": 59,
   "id": "2f134bb7",
   "metadata": {},
   "outputs": [
    {
     "data": {
      "text/plain": [
       "array([[1, 2, 3],\n",
       "       [4, 5, 6]])"
      ]
     },
     "execution_count": 59,
     "metadata": {},
     "output_type": "execute_result"
    }
   ],
   "source": [
    "A[0:2,:]"
   ]
  },
  {
   "cell_type": "code",
   "execution_count": 57,
   "id": "95ec509a",
   "metadata": {},
   "outputs": [
    {
     "data": {
      "text/plain": [
       "array([27])"
      ]
     },
     "execution_count": 57,
     "metadata": {},
     "output_type": "execute_result"
    }
   ],
   "source": [
    "fx(A[0:1,1])"
   ]
  },
  {
   "cell_type": "code",
   "execution_count": null,
   "id": "9bfba31e",
   "metadata": {},
   "outputs": [],
   "source": []
  }
 ],
 "metadata": {
  "kernelspec": {
   "display_name": "Python 3 (ipykernel)",
   "language": "python",
   "name": "python3"
  },
  "language_info": {
   "codemirror_mode": {
    "name": "ipython",
    "version": 3
   },
   "file_extension": ".py",
   "mimetype": "text/x-python",
   "name": "python",
   "nbconvert_exporter": "python",
   "pygments_lexer": "ipython3",
   "version": "3.9.13"
  }
 },
 "nbformat": 4,
 "nbformat_minor": 5
}
