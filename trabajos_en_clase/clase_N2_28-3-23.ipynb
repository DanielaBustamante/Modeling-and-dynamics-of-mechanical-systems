{
 "cells": [
  {
   "cell_type": "code",
   "execution_count": 53,
   "id": "c040bf9b",
   "metadata": {
    "scrolled": true
   },
   "outputs": [
    {
     "name": "stdout",
     "output_type": "stream",
     "text": [
      "[51.875]\n"
     ]
    }
   ],
   "source": [
    "import numpy as np\n",
    "\n",
    "at=0\n",
    "bt=5\n",
    "dx=0.5\n",
    "I=np.zeros((10,1))\n",
    "It=0\n",
    "\n",
    "def fx(x):\n",
    "    return x**2+2\n",
    "\n",
    "for i in range(0,10):\n",
    "    a=i*dx\n",
    "    b=a+dx\n",
    "    I[i]=((fx(b)+fx(a))/2)*dx\n",
    "    \n",
    "for j in range(0,len(I)):\n",
    "    It=It+I[j]\n",
    "    \n",
    "print(It)"
   ]
  },
  {
   "cell_type": "code",
   "execution_count": 55,
   "id": "58f99121",
   "metadata": {},
   "outputs": [
    {
     "name": "stdout",
     "output_type": "stream",
     "text": [
      "[51.875]\n"
     ]
    }
   ],
   "source": [
    "# con simpson\n",
    "import numpy as np\n",
    "\n",
    "at=0\n",
    "bt=5\n",
    "dx=0.5\n",
    "I=np.zeros((10,1))\n",
    "It=0\n",
    "\n",
    "def fx(x):\n",
    "    return x**2+2\n",
    "\n",
    "for i in range(0,10):\n",
    "    a=i*dx\n",
    "    b=a+dx\n",
    "    I[i]=((fx(b)+fx(a))/2)*dx\n",
    "    \n",
    "for j in range(0,len(I)):\n",
    "    It=It+I[j]\n",
    "    \n",
    "print(It)"
   ]
  },
  {
   "cell_type": "code",
   "execution_count": 62,
   "id": "87bd8b54",
   "metadata": {},
   "outputs": [
    {
     "name": "stdout",
     "output_type": "stream",
     "text": [
      "[0.14561119]\n"
     ]
    }
   ],
   "source": [
    "# Punto 2\n",
    "import numpy as np\n",
    "\n",
    "at=0\n",
    "bt=5\n",
    "dx=0.5\n",
    "I=np.zeros((10,1))\n",
    "It=0\n",
    "\n",
    "def fx(x):\n",
    "    return (np.sin(np.log(x)))/x\n",
    "\n",
    "for i in range(0,10):\n",
    "    a=1+(1*dx)\n",
    "    b=a+dx\n",
    "I[i]=((fx(b)+fx(a))/2)*dx\n",
    "    \n",
    "for j in range(0,len(I)):\n",
    "    It=It+I[j]\n",
    "    \n",
    "print(It)"
   ]
  },
  {
   "cell_type": "code",
   "execution_count": null,
   "id": "7f6da177",
   "metadata": {},
   "outputs": [],
   "source": []
  }
 ],
 "metadata": {
  "kernelspec": {
   "display_name": "Python 3 (ipykernel)",
   "language": "python",
   "name": "python3"
  },
  "language_info": {
   "codemirror_mode": {
    "name": "ipython",
    "version": 3
   },
   "file_extension": ".py",
   "mimetype": "text/x-python",
   "name": "python",
   "nbconvert_exporter": "python",
   "pygments_lexer": "ipython3",
   "version": "3.9.13"
  }
 },
 "nbformat": 4,
 "nbformat_minor": 5
}
